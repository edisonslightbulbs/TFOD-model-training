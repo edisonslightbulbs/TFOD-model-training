{
 "cells": [
  {
   "cell_type": "markdown",
   "metadata": {
    "id": "QUANWN3rpfC9"
   },
   "source": [
    "## 1. CHECK SUBMODULES\n",
    "\n",
    "**!!!Caveat :** This command is better run in terminal to see STDOUT clearly. Iff you opt to run the script in terminal, execute it from the <u>**module-training**</u> directory and **not** the <u>**project root directory**</u>!\n",
    "\n",
    "<hr style=\"border:2px solid gray\"> </hr>"
   ]
  },
  {
   "cell_type": "code",
   "execution_count": 2,
   "metadata": {},
   "outputs": [],
   "source": [
    "!./scripts/check-submodules.sh"
   ]
  },
  {
   "cell_type": "markdown",
   "metadata": {},
   "source": [
    "## 2. CREATE VIRTUAL ENVIRONMENT\n",
    "\n",
    "**!!!Caveat :** This script should be run in terminal to grant install permission (installs essential [dependencies](scripts/dependencies.sh)), and should be executed from the <u>**module-training**</u> directory and **not** the <u>**project root directory**</u>! After running the command (creating the virtual environment), **change jupyter kernel** to the created virtual environment.\n",
    "\n",
    "<hr style=\"border:2px solid gray\"> </hr>\n",
    "\n",
    "`./scripts/venv.sh`\n"
   ]
  },
  {
   "cell_type": "markdown",
   "metadata": {
    "id": "OLU-rs_ipfDE"
   },
   "source": [
    "## 3. INSTALL TF OBJECT DETECTION\n",
    "\n",
    "**!!!Caveat :** This command is better run in terminal to see STDOUT clearly. After installing TF object detection,`tfod.sh` executes verification which provides feedback (pass/fail) of verification tests. Iff you opt to run the script in terminal, execute it from the <u>**module-training**</u> directory and **not** the <u>**project root directory**</u>!\n",
    "\n",
    "<hr style=\"border:2px solid gray\"> </hr>\n"
   ]
  },
  {
   "cell_type": "code",
   "execution_count": null,
   "metadata": {},
   "outputs": [],
   "source": [
    "!./scripts/tfod.sh"
   ]
  },
  {
   "cell_type": "markdown",
   "metadata": {},
   "source": [
    "## 4. GET PRETRAINED MODEL FROM [TENSOR FLOW MODEL ZOO](https://github.com/tensorflow/models/blob/master/research/object_detection/g3doc/tf2_detection_zoo.md)\n",
    "\n",
    "<hr style=\"border:2px solid gray\"> </hr>"
   ]
  },
  {
   "cell_type": "code",
   "execution_count": null,
   "metadata": {},
   "outputs": [],
   "source": [
    "!./scripts/pretrained-model.sh"
   ]
  },
  {
   "cell_type": "markdown",
   "metadata": {},
   "source": [
    "## 5. START MODEL TRAINING [ TRANSFER LEARNING ]\n",
    "\n",
    "**!!!CAVEAT :** Before proceeding from here, be sure install [tallying versions](https://www.tensorflow.org/install/source#gpu) of tensorflow, tensorflow-gpu, cuDNN, and CUDA. Also emember to link CUDA library (i.e., add *!!!correct* libcudart to path), e.g., from terminal \n",
    "\n",
    "######  # find shared object\n",
    "```\n",
    "sudo find / -name 'libcudart.so*'\n",
    "\n",
    "# example output:\n",
    "/usr/lib/x86_64-linux-gnu/libcudart.so.10.1\n",
    "/usr/lib/x86_64-linux-gnu/libcudart.so\n",
    "```\n",
    "###### # add it to path \n",
    "```\n",
    "export PATH=/usr/lib/x86_64-linux-gnu${PATH:+:${PATH}}\n",
    "export LD_LIBRARY_PATH=/usr/lib/x86_64-linux-gnu:${LD_LIBRARY_PATH:+:${LD_LIBRARY_PATH}}\n",
    "```\n",
    "###### # set permission\n",
    "```\n",
    "sudo chmod a+r /usr/lib/x86_64-linux-gnu/libcuda*\n",
    "```\n",
    "\n",
    "<hr style=\"border:2px solid gray\"> </hr>\n",
    "\n",
    "### a.  create label map"
   ]
  },
  {
   "cell_type": "code",
   "execution_count": 2,
   "metadata": {},
   "outputs": [],
   "source": [
    "import os\n",
    "\n",
    "# path to annotations file\n",
    "ann_file = os.path.join('annotations', 'annotations.pbtxt')\n",
    "\n",
    "# labels corresonds to class names defined during image annotation\n",
    "labels = [{'name':'smartphone', 'id':1}]\n",
    "\n",
    "# write annotations file\n",
    "with open(ann_file, 'w') as f:\n",
    "    for label in labels:\n",
    "        f.write('item { \\n')\n",
    "        f.write('\\tname:\\'{}\\'\\n'.format(label['name']))\n",
    "        f.write('\\tid:{}\\n'.format(label['id']))\n",
    "        f.write('}\\n')"
   ]
  },
  {
   "cell_type": "markdown",
   "metadata": {
    "id": "C88zyVELpfDC"
   },
   "source": [
    "### b. create TF records"
   ]
  },
  {
   "cell_type": "code",
   "execution_count": 3,
   "metadata": {},
   "outputs": [
    {
     "name": "stdout",
     "output_type": "stream",
     "text": [
      "Successfully created the TFRecord file: /home/everett/Repositories/research/projects/test/TFOD-model-training/model-training/records/train.record\n",
      "Successfully created the TFRecord file: /home/everett/Repositories/research/projects/test/TFOD-model-training/model-training/records/test.record\n"
     ]
    }
   ],
   "source": [
    "!./scripts/tfrecords.sh"
   ]
  },
  {
   "cell_type": "markdown",
   "metadata": {
    "id": "qT4QU7pLpfDE"
   },
   "source": [
    "### c. copy pipeline configuration of pretrainded model (transfer learning)"
   ]
  },
  {
   "cell_type": "code",
   "execution_count": 5,
   "metadata": {},
   "outputs": [],
   "source": [
    "# import TS object detection TODO: TESTING FROM HERE ONWARDS!!!\n",
    "import object_detection\n",
    "import tensorflow as tf\n",
    "from object_detection.utils import config_util\n",
    "from object_detection.protos import pipeline_pb2\n",
    "from google.protobuf import text_format"
   ]
  },
  {
   "cell_type": "code",
   "execution_count": 6,
   "metadata": {
    "id": "cOjuTFbwpfDF"
   },
   "outputs": [],
   "source": [
    "import os\n",
    "pretrained_pipeline_config_file = os.path.join('models/pretrained/ssd_mobilenet_v2_fpnlite_320x320_coco17_tpu-8/pipeline.config')\n",
    "models = os.path.join('models')"
   ]
  },
  {
   "cell_type": "code",
   "execution_count": 7,
   "metadata": {},
   "outputs": [],
   "source": [
    "!cp {pretrained_pipeline_config_file} {models}"
   ]
  },
  {
   "cell_type": "markdown",
   "metadata": {},
   "source": [
    "### check model's pipeline config after update (optional) "
   ]
  },
  {
   "cell_type": "code",
   "execution_count": 9,
   "metadata": {},
   "outputs": [],
   "source": [
    "config = config_util.get_configs_from_pipeline_file(os.path.join('models/pipeline.config'))\n",
    "# config # <-- uncomment to see cloned pipeline config file"
   ]
  },
  {
   "cell_type": "code",
   "execution_count": 10,
   "metadata": {
    "id": "Z9hRrO_ppfDF"
   },
   "outputs": [],
   "source": [
    "# configure training model's pipeline config using cloned pre-trained model's pipeline config\n",
    "model_pipeline_config_file = os.path.join('models/pipeline.config')\n",
    "pipeline_config = pipeline_pb2.TrainEvalPipelineConfig()\n",
    "\n",
    "# parse cloned pipeline config\n",
    "with tf.io.gfile.GFile(model_pipeline_config_file, \"r\") as f:                                                                                                                                                                                                                     \n",
    "    proto_str = f.read()                                                                                                                                                                                                                                          \n",
    "    text_format.Merge(proto_str, pipeline_config) \n",
    "    \n",
    "# update model settings\n",
    "model_test_record = [os.path.join('records/train.record')]\n",
    "model_train_record = [os.path.join('records/train.record')]\n",
    "model_checkpoint = os.path.join('models/pretrained/ssd_mobilenet_v2_fpnlite_320x320_coco17_tpu-8/checkpoint/ckpt-0')\n",
    "\n",
    "pipeline_config.model.ssd.num_classes = len(labels)\n",
    "pipeline_config.train_config.batch_size = 4\n",
    "\n",
    "pipeline_config.train_input_reader.label_map_path= ann_file\n",
    "pipeline_config.train_config.fine_tune_checkpoint = model_checkpoint\n",
    "pipeline_config.train_config.fine_tune_checkpoint_type = \"detection\"\n",
    "pipeline_config.train_input_reader.tf_record_input_reader.input_path[:] = model_train_record\n",
    "\n",
    "pipeline_config.eval_input_reader[0].label_map_path = ann_file\n",
    "pipeline_config.eval_input_reader[0].tf_record_input_reader.input_path[:] = model_test_record\n",
    "\n",
    "config_text = text_format.MessageToString(pipeline_config)  \n",
    "\n",
    "with tf.io.gfile.GFile(model_pipeline_config_file, \"wb\") as f:                                                                                                                                                                                                                     \n",
    "    f.write(config_text) "
   ]
  },
  {
   "cell_type": "markdown",
   "metadata": {},
   "source": [
    "### check model's pipeline config after update (optional) "
   ]
  },
  {
   "cell_type": "code",
   "execution_count": 11,
   "metadata": {
    "id": "rP43Ph0JpfDG"
   },
   "outputs": [],
   "source": [
    "config = config_util.get_configs_from_pipeline_file(model_pipeline_config_file)\n",
    "# config # <-- uncomment to see config post update"
   ]
  },
  {
   "cell_type": "markdown",
   "metadata": {
    "id": "Zr3ON7xMpfDG"
   },
   "source": [
    "### d. train model\n",
    "\n",
    "**!!!Caveat :** This command is better run in terminal to see STDOUT clearly. Iff you opt to run the script in terminal, execute it from the <u>**module-training**</u> directory and **not** the <u>**project root directory**</u>!"
   ]
  },
  {
   "cell_type": "code",
   "execution_count": null,
   "metadata": {},
   "outputs": [],
   "source": [
    "!./scripts/train.sh"
   ]
  },
  {
   "cell_type": "markdown",
   "metadata": {
    "id": "4_YRZu7npfDH"
   },
   "source": [
    "### e. evaluate model (optional)\n",
    "\n",
    "**!!!Caveat :** This command is better run in terminal to see STDOUT clearly. Iff you opt to run the script in terminal, execute it from the <u>**module-training**</u> directory and **not** the <u>**project root directory**</u>!"
   ]
  },
  {
   "cell_type": "code",
   "execution_count": null,
   "metadata": {},
   "outputs": [],
   "source": [
    "!./scripts/evaluate.sh"
   ]
  },
  {
   "cell_type": "markdown",
   "metadata": {
    "id": "orvRk02UpfDI"
   },
   "source": [
    "### f. load pipeline config and restore chekpoint"
   ]
  },
  {
   "cell_type": "code",
   "execution_count": 76,
   "metadata": {
    "id": "8TYk4_oIpfDI"
   },
   "outputs": [],
   "source": [
    "import os\n",
    "import tensorflow as tf\n",
    "from object_detection.utils import label_map_util\n",
    "from object_detection.utils import visualization_utils as viz_utils\n",
    "from object_detection.builders import model_builder\n",
    "from object_detection.utils import config_util"
   ]
  },
  {
   "cell_type": "code",
   "execution_count": 78,
   "metadata": {
    "id": "tDnQg-cYpfDI"
   },
   "outputs": [],
   "source": [
    "# load pipeline config and build model\n",
    "configs = config_util.get_configs_from_pipeline_file(model_pipeline_config_file)\n",
    "detection_model = model_builder.build(model_config=configs['model'], is_training=False)\n",
    "\n",
    "# restore checkpoint\n",
    "ckpt = tf.compat.v2.train.Checkpoint(model=detection_model)\n",
    "model_checkpoint = os.path.join('models/ckpt-3') ## todo: dynamically find last checkpoint\n",
    "ckpt.restore(model_checkpoint).expect_partial()\n",
    "\n",
    "@tf.function\n",
    "def detect_fn(image):\n",
    "    image, shapes = detection_model.preprocess(image)\n",
    "    prediction_dict = detection_model.predict(image, shapes)\n",
    "    detections = detection_model.postprocess(prediction_dict, shapes)\n",
    "    return detections"
   ]
  }
 ],
 "metadata": {
  "accelerator": "GPU",
  "colab": {
   "name": "3. Training and Detection.ipynb",
   "provenance": []
  },
  "kernelspec": {
   "display_name": "tfod-venv",
   "language": "python",
   "name": "tfod-venv"
  },
  "language_info": {
   "codemirror_mode": {
    "name": "ipython",
    "version": 3
   },
   "file_extension": ".py",
   "mimetype": "text/x-python",
   "name": "python",
   "nbconvert_exporter": "python",
   "pygments_lexer": "ipython3",
   "version": "3.8.10"
  }
 },
 "nbformat": 4,
 "nbformat_minor": 1
}
